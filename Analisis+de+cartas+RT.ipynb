{
 "cells": [
  {
   "cell_type": "code",
   "execution_count": 1,
   "metadata": {},
   "outputs": [],
   "source": [
    "import re\n",
    "import matplotlib\n",
    "import numpy as np\n",
    "import matplotlib.pyplot as plt\n",
    "import pandas as pd\n",
    "from sklearn.model_selection import train_test_split\n",
    "from sklearn.feature_extraction.text import TfidfVectorizer\n",
    "from sklearn.naive_bayes import MultinomialNB\n",
    "from sklearn.metrics import accuracy_score\n",
    "from sklearn.multiclass import OneVsRestClassifier\n",
    "from nltk.corpus import stopwords\n",
    "stop_words = set(stopwords.words('spanish'))\n",
    "from sklearn.svm import LinearSVC\n",
    "from sklearn.linear_model import LogisticRegression\n",
    "from sklearn.pipeline import Pipeline\n",
    "import seaborn as sns\n"
   ]
  },
  {
   "cell_type": "code",
   "execution_count": 2,
   "metadata": {},
   "outputs": [],
   "source": [
    "#Cargar dataset de entrenamientos(cartas de solicitudes del alumno)\n",
    "train_rt = pd.read_csv('dataset/dataset_rt_20082018.csv', encoding = \"ISO-8859-1\", sep=';')"
   ]
  },
  {
   "cell_type": "code",
   "execution_count": 3,
   "metadata": {},
   "outputs": [
    {
     "data": {
      "text/html": [
       "<div>\n",
       "<style scoped>\n",
       "    .dataframe tbody tr th:only-of-type {\n",
       "        vertical-align: middle;\n",
       "    }\n",
       "\n",
       "    .dataframe tbody tr th {\n",
       "        vertical-align: top;\n",
       "    }\n",
       "\n",
       "    .dataframe thead th {\n",
       "        text-align: right;\n",
       "    }\n",
       "</style>\n",
       "<table border=\"1\" class=\"dataframe\">\n",
       "  <thead>\n",
       "    <tr style=\"text-align: right;\">\n",
       "      <th></th>\n",
       "      <th>WOSOCO_C_WORK_PARA_VALO</th>\n",
       "      <th>WOPAVA_VALOR</th>\n",
       "      <th>WOSOCO_VALOR</th>\n",
       "    </tr>\n",
       "  </thead>\n",
       "  <tbody>\n",
       "    <tr>\n",
       "      <th>0</th>\n",
       "      <td>1</td>\n",
       "      <td>Salud estudiante</td>\n",
       "      <td>Jueves 1 de Marzo 2018/Valparaíso\\r\\n\\r\\nSra. ...</td>\n",
       "    </tr>\n",
       "    <tr>\n",
       "      <th>1</th>\n",
       "      <td>1</td>\n",
       "      <td>Salud estudiante</td>\n",
       "      <td>Sra. Directora de Procesos Docentes Angélica C...</td>\n",
       "    </tr>\n",
       "    <tr>\n",
       "      <th>2</th>\n",
       "      <td>11</td>\n",
       "      <td>Sin expresión de causa</td>\n",
       "      <td>Dentro de mi grupo familiar, se encuentra mi m...</td>\n",
       "    </tr>\n",
       "    <tr>\n",
       "      <th>3</th>\n",
       "      <td>6</td>\n",
       "      <td>Vocacional</td>\n",
       "      <td>Sra. Angélica Casaletti Logola, \\r\\nDirectora ...</td>\n",
       "    </tr>\n",
       "    <tr>\n",
       "      <th>4</th>\n",
       "      <td>5</td>\n",
       "      <td>Cambio socioeconómico</td>\n",
       "      <td>Santiago 1 de Marzo de 2018\\r\\nSeñores \\r\\nPon...</td>\n",
       "    </tr>\n",
       "  </tbody>\n",
       "</table>\n",
       "</div>"
      ],
      "text/plain": [
       "   WOSOCO_C_WORK_PARA_VALO            WOPAVA_VALOR  \\\n",
       "0                        1        Salud estudiante   \n",
       "1                        1        Salud estudiante   \n",
       "2                       11  Sin expresión de causa   \n",
       "3                        6              Vocacional   \n",
       "4                        5   Cambio socioeconómico   \n",
       "\n",
       "                                        WOSOCO_VALOR  \n",
       "0  Jueves 1 de Marzo 2018/Valparaíso\\r\\n\\r\\nSra. ...  \n",
       "1  Sra. Directora de Procesos Docentes Angélica C...  \n",
       "2  Dentro de mi grupo familiar, se encuentra mi m...  \n",
       "3  Sra. Angélica Casaletti Logola, \\r\\nDirectora ...  \n",
       "4  Santiago 1 de Marzo de 2018\\r\\nSeñores \\r\\nPon...  "
      ]
     },
     "execution_count": 3,
     "metadata": {},
     "output_type": "execute_result"
    }
   ],
   "source": [
    "train_rt.head()"
   ]
  },
  {
   "cell_type": "code",
   "execution_count": 4,
   "metadata": {},
   "outputs": [
    {
     "data": {
      "text/html": [
       "<div>\n",
       "<style scoped>\n",
       "    .dataframe tbody tr th:only-of-type {\n",
       "        vertical-align: middle;\n",
       "    }\n",
       "\n",
       "    .dataframe tbody tr th {\n",
       "        vertical-align: top;\n",
       "    }\n",
       "\n",
       "    .dataframe thead th {\n",
       "        text-align: right;\n",
       "    }\n",
       "</style>\n",
       "<table border=\"1\" class=\"dataframe\">\n",
       "  <thead>\n",
       "    <tr style=\"text-align: right;\">\n",
       "      <th></th>\n",
       "      <th>WOSOCO_VALOR</th>\n",
       "      <th>word_count</th>\n",
       "    </tr>\n",
       "  </thead>\n",
       "  <tbody>\n",
       "    <tr>\n",
       "      <th>0</th>\n",
       "      <td>Jueves 1 de Marzo 2018/Valparaíso\\r\\n\\r\\nSra. ...</td>\n",
       "      <td>90</td>\n",
       "    </tr>\n",
       "    <tr>\n",
       "      <th>1</th>\n",
       "      <td>Sra. Directora de Procesos Docentes Angélica C...</td>\n",
       "      <td>102</td>\n",
       "    </tr>\n",
       "    <tr>\n",
       "      <th>2</th>\n",
       "      <td>Dentro de mi grupo familiar, se encuentra mi m...</td>\n",
       "      <td>184</td>\n",
       "    </tr>\n",
       "    <tr>\n",
       "      <th>3</th>\n",
       "      <td>Sra. Angélica Casaletti Logola, \\r\\nDirectora ...</td>\n",
       "      <td>162</td>\n",
       "    </tr>\n",
       "    <tr>\n",
       "      <th>4</th>\n",
       "      <td>Santiago 1 de Marzo de 2018\\r\\nSeñores \\r\\nPon...</td>\n",
       "      <td>143</td>\n",
       "    </tr>\n",
       "  </tbody>\n",
       "</table>\n",
       "</div>"
      ],
      "text/plain": [
       "                                        WOSOCO_VALOR  word_count\n",
       "0  Jueves 1 de Marzo 2018/Valparaíso\\r\\n\\r\\nSra. ...          90\n",
       "1  Sra. Directora de Procesos Docentes Angélica C...         102\n",
       "2  Dentro de mi grupo familiar, se encuentra mi m...         184\n",
       "3  Sra. Angélica Casaletti Logola, \\r\\nDirectora ...         162\n",
       "4  Santiago 1 de Marzo de 2018\\r\\nSeñores \\r\\nPon...         143"
      ]
     },
     "execution_count": 4,
     "metadata": {},
     "output_type": "execute_result"
    }
   ],
   "source": [
    "#numero de palabras\n",
    "train_rt['word_count'] = train_rt['WOSOCO_VALOR'].apply(lambda x: len(str(x).split(\" \")))\n",
    "train_rt[['WOSOCO_VALOR','word_count']].head()"
   ]
  },
  {
   "cell_type": "code",
   "execution_count": 5,
   "metadata": {},
   "outputs": [
    {
     "data": {
      "text/html": [
       "<div>\n",
       "<style scoped>\n",
       "    .dataframe tbody tr th:only-of-type {\n",
       "        vertical-align: middle;\n",
       "    }\n",
       "\n",
       "    .dataframe tbody tr th {\n",
       "        vertical-align: top;\n",
       "    }\n",
       "\n",
       "    .dataframe thead th {\n",
       "        text-align: right;\n",
       "    }\n",
       "</style>\n",
       "<table border=\"1\" class=\"dataframe\">\n",
       "  <thead>\n",
       "    <tr style=\"text-align: right;\">\n",
       "      <th></th>\n",
       "      <th>WOSOCO_VALOR</th>\n",
       "      <th>char_count</th>\n",
       "    </tr>\n",
       "  </thead>\n",
       "  <tbody>\n",
       "    <tr>\n",
       "      <th>0</th>\n",
       "      <td>Jueves 1 de Marzo 2018/Valparaíso\\r\\n\\r\\nSra. ...</td>\n",
       "      <td>620.0</td>\n",
       "    </tr>\n",
       "    <tr>\n",
       "      <th>1</th>\n",
       "      <td>Sra. Directora de Procesos Docentes Angélica C...</td>\n",
       "      <td>671.0</td>\n",
       "    </tr>\n",
       "    <tr>\n",
       "      <th>2</th>\n",
       "      <td>Dentro de mi grupo familiar, se encuentra mi m...</td>\n",
       "      <td>1000.0</td>\n",
       "    </tr>\n",
       "    <tr>\n",
       "      <th>3</th>\n",
       "      <td>Sra. Angélica Casaletti Logola, \\r\\nDirectora ...</td>\n",
       "      <td>1000.0</td>\n",
       "    </tr>\n",
       "    <tr>\n",
       "      <th>4</th>\n",
       "      <td>Santiago 1 de Marzo de 2018\\r\\nSeñores \\r\\nPon...</td>\n",
       "      <td>1000.0</td>\n",
       "    </tr>\n",
       "  </tbody>\n",
       "</table>\n",
       "</div>"
      ],
      "text/plain": [
       "                                        WOSOCO_VALOR  char_count\n",
       "0  Jueves 1 de Marzo 2018/Valparaíso\\r\\n\\r\\nSra. ...       620.0\n",
       "1  Sra. Directora de Procesos Docentes Angélica C...       671.0\n",
       "2  Dentro de mi grupo familiar, se encuentra mi m...      1000.0\n",
       "3  Sra. Angélica Casaletti Logola, \\r\\nDirectora ...      1000.0\n",
       "4  Santiago 1 de Marzo de 2018\\r\\nSeñores \\r\\nPon...      1000.0"
      ]
     },
     "execution_count": 5,
     "metadata": {},
     "output_type": "execute_result"
    }
   ],
   "source": [
    "#contar caracteres\n",
    "\n",
    "train_rt['char_count'] = train_rt['WOSOCO_VALOR'].str.len()\n",
    "train_rt[['WOSOCO_VALOR','char_count']].head()"
   ]
  },
  {
   "cell_type": "code",
   "execution_count": 6,
   "metadata": {},
   "outputs": [
    {
     "data": {
      "text/html": [
       "<div>\n",
       "<style scoped>\n",
       "    .dataframe tbody tr th:only-of-type {\n",
       "        vertical-align: middle;\n",
       "    }\n",
       "\n",
       "    .dataframe tbody tr th {\n",
       "        vertical-align: top;\n",
       "    }\n",
       "\n",
       "    .dataframe thead th {\n",
       "        text-align: right;\n",
       "    }\n",
       "</style>\n",
       "<table border=\"1\" class=\"dataframe\">\n",
       "  <thead>\n",
       "    <tr style=\"text-align: right;\">\n",
       "      <th></th>\n",
       "      <th>WOSOCO_C_WORK_PARA_VALO</th>\n",
       "      <th>WOPAVA_VALOR</th>\n",
       "      <th>WOSOCO_VALOR</th>\n",
       "      <th>word_count</th>\n",
       "      <th>char_count</th>\n",
       "    </tr>\n",
       "  </thead>\n",
       "  <tbody>\n",
       "    <tr>\n",
       "      <th>8</th>\n",
       "      <td>7</td>\n",
       "      <td>Cambio carrera (interno)</td>\n",
       "      <td>NaN</td>\n",
       "      <td>1</td>\n",
       "      <td>NaN</td>\n",
       "    </tr>\n",
       "    <tr>\n",
       "      <th>24</th>\n",
       "      <td>4</td>\n",
       "      <td>Cuidado hijo</td>\n",
       "      <td>NaN</td>\n",
       "      <td>1</td>\n",
       "      <td>NaN</td>\n",
       "    </tr>\n",
       "    <tr>\n",
       "      <th>170</th>\n",
       "      <td>1</td>\n",
       "      <td>Salud estudiante</td>\n",
       "      <td>NaN</td>\n",
       "      <td>1</td>\n",
       "      <td>NaN</td>\n",
       "    </tr>\n",
       "    <tr>\n",
       "      <th>206</th>\n",
       "      <td>7</td>\n",
       "      <td>Cambio carrera (interno)</td>\n",
       "      <td>NaN</td>\n",
       "      <td>1</td>\n",
       "      <td>NaN</td>\n",
       "    </tr>\n",
       "    <tr>\n",
       "      <th>219</th>\n",
       "      <td>1</td>\n",
       "      <td>Salud estudiante</td>\n",
       "      <td>NaN</td>\n",
       "      <td>1</td>\n",
       "      <td>NaN</td>\n",
       "    </tr>\n",
       "  </tbody>\n",
       "</table>\n",
       "</div>"
      ],
      "text/plain": [
       "     WOSOCO_C_WORK_PARA_VALO              WOPAVA_VALOR WOSOCO_VALOR  \\\n",
       "8                          7  Cambio carrera (interno)          NaN   \n",
       "24                         4              Cuidado hijo          NaN   \n",
       "170                        1          Salud estudiante          NaN   \n",
       "206                        7  Cambio carrera (interno)          NaN   \n",
       "219                        1          Salud estudiante          NaN   \n",
       "\n",
       "     word_count  char_count  \n",
       "8             1         NaN  \n",
       "24            1         NaN  \n",
       "170           1         NaN  \n",
       "206           1         NaN  \n",
       "219           1         NaN  "
      ]
     },
     "execution_count": 6,
     "metadata": {},
     "output_type": "execute_result"
    }
   ],
   "source": [
    "#Mostrar datos nulos\n",
    "\n",
    "null_train_rt = train_rt[train_rt.isnull().any(axis=1)]\n",
    "null_train_rt.head()"
   ]
  },
  {
   "cell_type": "code",
   "execution_count": 7,
   "metadata": {},
   "outputs": [
    {
     "data": {
      "text/plain": [
       "(880, 5)"
      ]
     },
     "execution_count": 7,
     "metadata": {},
     "output_type": "execute_result"
    }
   ],
   "source": [
    "#Se eliminan los datos nulos\n",
    "train_rt = train_rt.dropna()\n",
    "train_rt.shape"
   ]
  },
  {
   "cell_type": "code",
   "execution_count": 8,
   "metadata": {},
   "outputs": [
    {
     "data": {
      "text/plain": [
       "WOSOCO_C_WORK_PARA_VALO    0\n",
       "WOPAVA_VALOR               0\n",
       "WOSOCO_VALOR               0\n",
       "word_count                 0\n",
       "char_count                 0\n",
       "dtype: int64"
      ]
     },
     "execution_count": 8,
     "metadata": {},
     "output_type": "execute_result"
    }
   ],
   "source": [
    "train_rt.isnull().sum()"
   ]
  },
  {
   "cell_type": "code",
   "execution_count": 9,
   "metadata": {},
   "outputs": [
    {
     "data": {
      "text/html": [
       "<div>\n",
       "<style scoped>\n",
       "    .dataframe tbody tr th:only-of-type {\n",
       "        vertical-align: middle;\n",
       "    }\n",
       "\n",
       "    .dataframe tbody tr th {\n",
       "        vertical-align: top;\n",
       "    }\n",
       "\n",
       "    .dataframe thead th {\n",
       "        text-align: right;\n",
       "    }\n",
       "</style>\n",
       "<table border=\"1\" class=\"dataframe\">\n",
       "  <thead>\n",
       "    <tr style=\"text-align: right;\">\n",
       "      <th></th>\n",
       "      <th>WOSOCO_VALOR</th>\n",
       "      <th>stopwords</th>\n",
       "    </tr>\n",
       "  </thead>\n",
       "  <tbody>\n",
       "    <tr>\n",
       "      <th>0</th>\n",
       "      <td>Jueves 1 de Marzo 2018/Valparaíso\\r\\n\\r\\nSra. ...</td>\n",
       "      <td>31</td>\n",
       "    </tr>\n",
       "    <tr>\n",
       "      <th>1</th>\n",
       "      <td>Sra. Directora de Procesos Docentes Angélica C...</td>\n",
       "      <td>43</td>\n",
       "    </tr>\n",
       "    <tr>\n",
       "      <th>2</th>\n",
       "      <td>Dentro de mi grupo familiar, se encuentra mi m...</td>\n",
       "      <td>92</td>\n",
       "    </tr>\n",
       "    <tr>\n",
       "      <th>3</th>\n",
       "      <td>Sra. Angélica Casaletti Logola, \\r\\nDirectora ...</td>\n",
       "      <td>75</td>\n",
       "    </tr>\n",
       "    <tr>\n",
       "      <th>4</th>\n",
       "      <td>Santiago 1 de Marzo de 2018\\r\\nSeñores \\r\\nPon...</td>\n",
       "      <td>50</td>\n",
       "    </tr>\n",
       "  </tbody>\n",
       "</table>\n",
       "</div>"
      ],
      "text/plain": [
       "                                        WOSOCO_VALOR  stopwords\n",
       "0  Jueves 1 de Marzo 2018/Valparaíso\\r\\n\\r\\nSra. ...         31\n",
       "1  Sra. Directora de Procesos Docentes Angélica C...         43\n",
       "2  Dentro de mi grupo familiar, se encuentra mi m...         92\n",
       "3  Sra. Angélica Casaletti Logola, \\r\\nDirectora ...         75\n",
       "4  Santiago 1 de Marzo de 2018\\r\\nSeñores \\r\\nPon...         50"
      ]
     },
     "execution_count": 9,
     "metadata": {},
     "output_type": "execute_result"
    }
   ],
   "source": [
    "# se identifican los stopwords\n",
    "\n",
    "train_rt['stopwords'] = train_rt['WOSOCO_VALOR'].apply(lambda x: len([x for x in x.split() if x in stop_words]))\n",
    "train_rt[['WOSOCO_VALOR','stopwords']].head()"
   ]
  },
  {
   "cell_type": "code",
   "execution_count": 10,
   "metadata": {},
   "outputs": [
    {
     "data": {
      "text/plain": [
       "0"
      ]
     },
     "execution_count": 10,
     "metadata": {},
     "output_type": "execute_result"
    }
   ],
   "source": [
    "train_rt['WOSOCO_VALOR'].isnull().sum()"
   ]
  },
  {
   "cell_type": "code",
   "execution_count": 11,
   "metadata": {},
   "outputs": [
    {
     "data": {
      "text/html": [
       "<div>\n",
       "<style scoped>\n",
       "    .dataframe tbody tr th:only-of-type {\n",
       "        vertical-align: middle;\n",
       "    }\n",
       "\n",
       "    .dataframe tbody tr th {\n",
       "        vertical-align: top;\n",
       "    }\n",
       "\n",
       "    .dataframe thead th {\n",
       "        text-align: right;\n",
       "    }\n",
       "</style>\n",
       "<table border=\"1\" class=\"dataframe\">\n",
       "  <thead>\n",
       "    <tr style=\"text-align: right;\">\n",
       "      <th></th>\n",
       "      <th>WOSOCO_VALOR</th>\n",
       "      <th>numerics</th>\n",
       "    </tr>\n",
       "  </thead>\n",
       "  <tbody>\n",
       "    <tr>\n",
       "      <th>0</th>\n",
       "      <td>Jueves 1 de Marzo 2018/Valparaíso\\r\\n\\r\\nSra. ...</td>\n",
       "      <td>1</td>\n",
       "    </tr>\n",
       "    <tr>\n",
       "      <th>1</th>\n",
       "      <td>Sra. Directora de Procesos Docentes Angélica C...</td>\n",
       "      <td>1</td>\n",
       "    </tr>\n",
       "    <tr>\n",
       "      <th>2</th>\n",
       "      <td>Dentro de mi grupo familiar, se encuentra mi m...</td>\n",
       "      <td>0</td>\n",
       "    </tr>\n",
       "    <tr>\n",
       "      <th>3</th>\n",
       "      <td>Sra. Angélica Casaletti Logola, \\r\\nDirectora ...</td>\n",
       "      <td>0</td>\n",
       "    </tr>\n",
       "    <tr>\n",
       "      <th>4</th>\n",
       "      <td>Santiago 1 de Marzo de 2018\\r\\nSeñores \\r\\nPon...</td>\n",
       "      <td>2</td>\n",
       "    </tr>\n",
       "  </tbody>\n",
       "</table>\n",
       "</div>"
      ],
      "text/plain": [
       "                                        WOSOCO_VALOR  numerics\n",
       "0  Jueves 1 de Marzo 2018/Valparaíso\\r\\n\\r\\nSra. ...         1\n",
       "1  Sra. Directora de Procesos Docentes Angélica C...         1\n",
       "2  Dentro de mi grupo familiar, se encuentra mi m...         0\n",
       "3  Sra. Angélica Casaletti Logola, \\r\\nDirectora ...         0\n",
       "4  Santiago 1 de Marzo de 2018\\r\\nSeñores \\r\\nPon...         2"
      ]
     },
     "execution_count": 11,
     "metadata": {},
     "output_type": "execute_result"
    }
   ],
   "source": [
    "#se identifican los valores numericos\n",
    "\n",
    "train_rt['numerics'] = train_rt['WOSOCO_VALOR'].apply(lambda x: len([x for x in x.split() if x.isdigit()]))\n",
    "train_rt[['WOSOCO_VALOR','numerics']].head()"
   ]
  },
  {
   "cell_type": "code",
   "execution_count": 12,
   "metadata": {},
   "outputs": [
    {
     "data": {
      "text/html": [
       "<div>\n",
       "<style scoped>\n",
       "    .dataframe tbody tr th:only-of-type {\n",
       "        vertical-align: middle;\n",
       "    }\n",
       "\n",
       "    .dataframe tbody tr th {\n",
       "        vertical-align: top;\n",
       "    }\n",
       "\n",
       "    .dataframe thead th {\n",
       "        text-align: right;\n",
       "    }\n",
       "</style>\n",
       "<table border=\"1\" class=\"dataframe\">\n",
       "  <thead>\n",
       "    <tr style=\"text-align: right;\">\n",
       "      <th></th>\n",
       "      <th>WOSOCO_VALOR</th>\n",
       "      <th>upper</th>\n",
       "    </tr>\n",
       "  </thead>\n",
       "  <tbody>\n",
       "    <tr>\n",
       "      <th>0</th>\n",
       "      <td>Jueves 1 de Marzo 2018/Valparaíso\\r\\n\\r\\nSra. ...</td>\n",
       "      <td>9</td>\n",
       "    </tr>\n",
       "    <tr>\n",
       "      <th>1</th>\n",
       "      <td>Sra. Directora de Procesos Docentes Angélica C...</td>\n",
       "      <td>0</td>\n",
       "    </tr>\n",
       "    <tr>\n",
       "      <th>2</th>\n",
       "      <td>Dentro de mi grupo familiar, se encuentra mi m...</td>\n",
       "      <td>0</td>\n",
       "    </tr>\n",
       "    <tr>\n",
       "      <th>3</th>\n",
       "      <td>Sra. Angélica Casaletti Logola, \\r\\nDirectora ...</td>\n",
       "      <td>0</td>\n",
       "    </tr>\n",
       "    <tr>\n",
       "      <th>4</th>\n",
       "      <td>Santiago 1 de Marzo de 2018\\r\\nSeñores \\r\\nPon...</td>\n",
       "      <td>16</td>\n",
       "    </tr>\n",
       "  </tbody>\n",
       "</table>\n",
       "</div>"
      ],
      "text/plain": [
       "                                        WOSOCO_VALOR  upper\n",
       "0  Jueves 1 de Marzo 2018/Valparaíso\\r\\n\\r\\nSra. ...      9\n",
       "1  Sra. Directora de Procesos Docentes Angélica C...      0\n",
       "2  Dentro de mi grupo familiar, se encuentra mi m...      0\n",
       "3  Sra. Angélica Casaletti Logola, \\r\\nDirectora ...      0\n",
       "4  Santiago 1 de Marzo de 2018\\r\\nSeñores \\r\\nPon...     16"
      ]
     },
     "execution_count": 12,
     "metadata": {},
     "output_type": "execute_result"
    }
   ],
   "source": [
    "#se Cuentan las palabras en minusculas\n",
    "train_rt['upper'] = train_rt['WOSOCO_VALOR'].apply(lambda x: len([x for x in x.split() if x.isupper()]))\n",
    "train_rt[['WOSOCO_VALOR','upper']].head()"
   ]
  },
  {
   "cell_type": "code",
   "execution_count": 13,
   "metadata": {},
   "outputs": [
    {
     "data": {
      "text/plain": [
       "0    jueves 1 de marzo 2018/valparaíso sra. angelic...\n",
       "1    sra. directora de procesos docentes angélica c...\n",
       "2    dentro de mi grupo familiar, se encuentra mi m...\n",
       "3    sra. angélica casaletti logola, directora de l...\n",
       "4    santiago 1 de marzo de 2018 señores pontificia...\n",
       "Name: WOSOCO_VALOR, dtype: object"
      ]
     },
     "execution_count": 13,
     "metadata": {},
     "output_type": "execute_result"
    }
   ],
   "source": [
    "#Otro paso de preprocesamiento es dejar todo el documento en minúsculas.\n",
    "\n",
    "train_rt['WOSOCO_VALOR'] = train_rt['WOSOCO_VALOR'].apply(lambda x: \" \".join(x.lower() for x in x.split()))\n",
    "train_rt['WOSOCO_VALOR'].head()"
   ]
  },
  {
   "cell_type": "code",
   "execution_count": 14,
   "metadata": {},
   "outputs": [
    {
     "data": {
      "text/html": [
       "<div>\n",
       "<style scoped>\n",
       "    .dataframe tbody tr th:only-of-type {\n",
       "        vertical-align: middle;\n",
       "    }\n",
       "\n",
       "    .dataframe tbody tr th {\n",
       "        vertical-align: top;\n",
       "    }\n",
       "\n",
       "    .dataframe thead th {\n",
       "        text-align: right;\n",
       "    }\n",
       "</style>\n",
       "<table border=\"1\" class=\"dataframe\">\n",
       "  <thead>\n",
       "    <tr style=\"text-align: right;\">\n",
       "      <th></th>\n",
       "      <th>WOSOCO_VALOR</th>\n",
       "      <th>upper</th>\n",
       "    </tr>\n",
       "  </thead>\n",
       "  <tbody>\n",
       "    <tr>\n",
       "      <th>0</th>\n",
       "      <td>jueves 1 de marzo 2018/valparaíso sra. angelic...</td>\n",
       "      <td>0</td>\n",
       "    </tr>\n",
       "    <tr>\n",
       "      <th>1</th>\n",
       "      <td>sra. directora de procesos docentes angélica c...</td>\n",
       "      <td>0</td>\n",
       "    </tr>\n",
       "    <tr>\n",
       "      <th>2</th>\n",
       "      <td>dentro de mi grupo familiar, se encuentra mi m...</td>\n",
       "      <td>0</td>\n",
       "    </tr>\n",
       "    <tr>\n",
       "      <th>3</th>\n",
       "      <td>sra. angélica casaletti logola, directora de l...</td>\n",
       "      <td>0</td>\n",
       "    </tr>\n",
       "    <tr>\n",
       "      <th>4</th>\n",
       "      <td>santiago 1 de marzo de 2018 señores pontificia...</td>\n",
       "      <td>0</td>\n",
       "    </tr>\n",
       "  </tbody>\n",
       "</table>\n",
       "</div>"
      ],
      "text/plain": [
       "                                        WOSOCO_VALOR  upper\n",
       "0  jueves 1 de marzo 2018/valparaíso sra. angelic...      0\n",
       "1  sra. directora de procesos docentes angélica c...      0\n",
       "2  dentro de mi grupo familiar, se encuentra mi m...      0\n",
       "3  sra. angélica casaletti logola, directora de l...      0\n",
       "4  santiago 1 de marzo de 2018 señores pontificia...      0"
      ]
     },
     "execution_count": 14,
     "metadata": {},
     "output_type": "execute_result"
    }
   ],
   "source": [
    "#se valida nuevamente si quedan palabras en mayusculas\n",
    "\n",
    "train_rt['upper'] = train_rt['WOSOCO_VALOR'].apply(lambda x: len([x for x in x.split() if x.isupper()]))\n",
    "train_rt[['WOSOCO_VALOR','upper']].head()"
   ]
  },
  {
   "cell_type": "code",
   "execution_count": 15,
   "metadata": {},
   "outputs": [
    {
     "data": {
      "text/plain": [
       "0    jueves 1 de marzo 2018valparaíso sra angelica ...\n",
       "1    sra directora de procesos docentes angélica ca...\n",
       "2    dentro de mi grupo familiar se encuentra mi ma...\n",
       "3    sra angélica casaletti logola directora de la ...\n",
       "4    santiago 1 de marzo de 2018 señores pontificia...\n",
       "Name: WOSOCO_VALOR, dtype: object"
      ]
     },
     "execution_count": 15,
     "metadata": {},
     "output_type": "execute_result"
    }
   ],
   "source": [
    "#Eliminar la puntuación#\n",
    "#El siguiente paso es eliminar la puntuación, ya que no agrega ninguna información adicional al tratar los datos de texto.\n",
    "# Por lo tanto, eliminar todas las instancias de este nos ayudará a reducir el tamaño de los datos de entrenamiento.#\n",
    "\n",
    "train_rt['WOSOCO_VALOR'] = train_rt['WOSOCO_VALOR'].str.replace('[^\\w\\s]','')\n",
    "train_rt['WOSOCO_VALOR'].head()\n"
   ]
  },
  {
   "cell_type": "code",
   "execution_count": 16,
   "metadata": {},
   "outputs": [
    {
     "data": {
      "text/plain": [
       "0    jueves 1 marzo 2018valparaíso sra angelica cas...\n",
       "1    sra directora procesos docentes angélica casal...\n",
       "2    dentro grupo familiar encuentra madre pasando ...\n",
       "3    sra angélica casaletti logola directora direcc...\n",
       "4    santiago 1 marzo 2018 señores pontificia unive...\n",
       "Name: WOSOCO_VALOR, dtype: object"
      ]
     },
     "execution_count": 16,
     "metadata": {},
     "output_type": "execute_result"
    }
   ],
   "source": [
    "#Eliminación de palabras de alto#\n",
    "#Como mencionamos anteriormente, las palabras de detención (o las palabras que ocurren comúnmente)#\n",
    "#deben eliminarse de los datos de texto. Para este propósito, podemos crear una lista de palabras vacías o# \n",
    "#podemos usar bibliotecas predefinidas.#\n",
    "\n",
    "train_rt['WOSOCO_VALOR'] = train_rt['WOSOCO_VALOR'].apply(lambda x: \" \".join(x for x in x.split() if x not in stop_words))\n",
    "train_rt['WOSOCO_VALOR'].head()"
   ]
  },
  {
   "cell_type": "code",
   "execution_count": 17,
   "metadata": {},
   "outputs": [
    {
     "name": "stdout",
     "output_type": "stream",
     "text": [
      "carrera        1135\n",
      "semestre        855\n",
      "retiro          845\n",
      "año             701\n",
      "total           662\n",
      "universidad     600\n",
      "poder           454\n",
      "debido          444\n",
      "asignaturas     410\n",
      "situación       363\n",
      "dtype: int64\n"
     ]
    }
   ],
   "source": [
    "#Eliminación común de palabras#\n",
    "#Previamente, simplemente eliminamos las palabras que ocurren comúnmente en un sentido general. \n",
    "#revisemos las 10 palabras más frecuentes en nuestros datos de texto\n",
    "freq = pd.Series(' '.join(train_rt['WOSOCO_VALOR']).split()).value_counts()[:10]\n",
    "print(freq)"
   ]
  },
  {
   "cell_type": "code",
   "execution_count": 18,
   "metadata": {},
   "outputs": [
    {
     "data": {
      "text/plain": [
       "0    jueves 1 marzo 2018valparaíso sra angelica cas...\n",
       "1    sra directora procesos docentes angélica casal...\n",
       "2    dentro grupo familiar encuentra madre pasando ...\n",
       "3    sra angélica casaletti logola directora direcc...\n",
       "4    santiago 1 marzo 2018 señores pontificia catól...\n",
       "Name: WOSOCO_VALOR, dtype: object"
      ]
     },
     "execution_count": 18,
     "metadata": {},
     "output_type": "execute_result"
    }
   ],
   "source": [
    "#Ahora, se eliminan estas palabras ya que su presencia no será de ninguna utilidad \n",
    "#en la clasificación de nuestros datos de texto.#\n",
    "freq = list(freq.index)\n",
    "train_rt['WOSOCO_VALOR'] = train_rt['WOSOCO_VALOR'].apply(lambda x: \" \".join(x for x in x.split() if x not in freq))\n",
    "train_rt['WOSOCO_VALOR'].head()"
   ]
  },
  {
   "cell_type": "code",
   "execution_count": 19,
   "metadata": {},
   "outputs": [
    {
     "name": "stdout",
     "output_type": "stream",
     "text": [
      "requerimientos    1\n",
      "evidente          1\n",
      "notablemente      1\n",
      "dañará            1\n",
      "abra              1\n",
      "terapéutico       1\n",
      "expectativa       1\n",
      "carvallo          1\n",
      "asistencias       1\n",
      "examinar          1\n",
      "dtype: int64\n"
     ]
    }
   ],
   "source": [
    "#Se muestran las 10 palabras menos utilizadas\n",
    "freq = pd.Series(' '.join(train_rt['WOSOCO_VALOR']).split()).value_counts()[-10:]\n",
    "print(freq)"
   ]
  },
  {
   "cell_type": "code",
   "execution_count": 20,
   "metadata": {},
   "outputs": [
    {
     "data": {
      "text/plain": [
       "0    jueves 1 marzo 2018valparaíso sra angelica cas...\n",
       "1    sra directora procesos docentes angélica casal...\n",
       "2    dentro grupo familiar encuentra madre pasando ...\n",
       "3    sra angélica casaletti logola directora direcc...\n",
       "4    santiago 1 marzo 2018 señores pontificia catól...\n",
       "Name: WOSOCO_VALOR, dtype: object"
      ]
     },
     "execution_count": 20,
     "metadata": {},
     "output_type": "execute_result"
    }
   ],
   "source": [
    "#Se eliminan las palabras menos utilizadas\n",
    "freq = list(freq.index)\n",
    "train_rt['WOSOCO_VALOR'] = train_rt['WOSOCO_VALOR'].apply(lambda x: \" \".join(x for x in x.split() if x not in freq))\n",
    "train_rt['WOSOCO_VALOR'].head()"
   ]
  },
  {
   "cell_type": "code",
   "execution_count": 21,
   "metadata": {},
   "outputs": [
    {
     "data": {
      "text/plain": [
       "0    jueves marzo 2018valparaíso sra angelica casal...\n",
       "1    sra directora procesos docentes angélica casal...\n",
       "2    dentro grupo familiar encuentra madre pasando ...\n",
       "3    sra angélica casaletti logola directora direcc...\n",
       "4    santiago marzo señores pontificia católica val...\n",
       "Name: WOSOCO_VALOR, dtype: object"
      ]
     },
     "execution_count": 21,
     "metadata": {},
     "output_type": "execute_result"
    }
   ],
   "source": [
    "#Se eliminan los valores numericos\n",
    "\n",
    "train_rt['WOSOCO_VALOR'] = train_rt['WOSOCO_VALOR'].apply(lambda x: \" \".join(x for x in x.split() if not x.isdigit()))\n",
    "train_rt['WOSOCO_VALOR'].head()"
   ]
  },
  {
   "cell_type": "code",
   "execution_count": 22,
   "metadata": {},
   "outputs": [
    {
     "data": {
      "text/html": [
       "<div>\n",
       "<style scoped>\n",
       "    .dataframe tbody tr th:only-of-type {\n",
       "        vertical-align: middle;\n",
       "    }\n",
       "\n",
       "    .dataframe tbody tr th {\n",
       "        vertical-align: top;\n",
       "    }\n",
       "\n",
       "    .dataframe thead th {\n",
       "        text-align: right;\n",
       "    }\n",
       "</style>\n",
       "<table border=\"1\" class=\"dataframe\">\n",
       "  <thead>\n",
       "    <tr style=\"text-align: right;\">\n",
       "      <th></th>\n",
       "      <th>Cantidad</th>\n",
       "    </tr>\n",
       "    <tr>\n",
       "      <th>WOSOCO_C_WORK_PARA_VALO</th>\n",
       "      <th></th>\n",
       "    </tr>\n",
       "  </thead>\n",
       "  <tbody>\n",
       "    <tr>\n",
       "      <th>cambio carrera</th>\n",
       "      <td>23</td>\n",
       "    </tr>\n",
       "    <tr>\n",
       "      <th>cambio socioeconomico</th>\n",
       "      <td>35</td>\n",
       "    </tr>\n",
       "    <tr>\n",
       "      <th>cuidado hijo</th>\n",
       "      <td>9</td>\n",
       "    </tr>\n",
       "    <tr>\n",
       "      <th>fallecimiento</th>\n",
       "      <td>8</td>\n",
       "    </tr>\n",
       "    <tr>\n",
       "      <th>otra causa</th>\n",
       "      <td>131</td>\n",
       "    </tr>\n",
       "  </tbody>\n",
       "</table>\n",
       "</div>"
      ],
      "text/plain": [
       "                         Cantidad\n",
       "WOSOCO_C_WORK_PARA_VALO          \n",
       "cambio carrera                 23\n",
       "cambio socioeconomico          35\n",
       "cuidado hijo                    9\n",
       "fallecimiento                   8\n",
       "otra causa                    131"
      ]
     },
     "execution_count": 22,
     "metadata": {},
     "output_type": "execute_result"
    }
   ],
   "source": [
    "train =  train_rt.drop(['char_count', 'stopwords','numerics','upper','word_count'], axis=1)\n",
    "counts = []\n",
    "categories = ['salud estudiante','salud familiar','fallecimiento','cuidado hijo', 'cambio socioeconomico', 'vacacional',\n",
    "  'cambio carrera', 'traslado alumno','prblemas legales', 'problemas familiares', 'sin expresion causa','otra causa']\n",
    "\n",
    "train.WOSOCO_C_WORK_PARA_VALO.replace((1,2,3,4,5,6,7,8,9,10,11,12),\n",
    "  ('salud estudiante','salud familiar','fallecimiento','cuidado hijo', 'cambio socioeconomico', 'vacacional',\n",
    "  'cambio carrera', 'traslado alumno','prblemas legales', 'problemas familiares', 'sin expresion causa','otra causa'), inplace =True)\n",
    "\n",
    "\n",
    "suma =train.groupby('WOSOCO_C_WORK_PARA_VALO').size()\n",
    "\n",
    "p_df = pd.DataFrame({\"Cantidad\": suma})\n",
    "p_df.head()\n"
   ]
  },
  {
   "cell_type": "code",
   "execution_count": 23,
   "metadata": {},
   "outputs": [
    {
     "data": {
      "image/png": "[encoded data removed]",
      "text/plain": [
       "<Figure size 576x360 with 1 Axes>"
      ]
     },
     "metadata": {},
     "output_type": "display_data"
    }
   ],
   "source": [
    "p_df.plot(kind='bar', legend=False, grid=True, figsize=(8, 5))\n",
    "plt.title(\"Documentos por categoria(causal)\")\n",
    "plt.ylabel('Cantidad', fontsize=12)\n",
    "plt.xlabel('Categoria', fontsize=12)\n",
    "plt.show()"
   ]
  },
  {
   "cell_type": "code",
   "execution_count": 24,
   "metadata": {},
   "outputs": [
    {
     "name": "stderr",
     "output_type": "stream",
     "text": [
      "C:\\Users\\jose\\Anaconda3\\lib\\site-packages\\h5py\\__init__.py:36: FutureWarning: Conversion of the second argument of issubdtype from `float` to `np.floating` is deprecated. In future, it will be treated as `np.float64 == np.dtype(float).type`.\n",
      "  from ._conv import register_converters as _register_converters\n",
      "Using TensorFlow backend.\n"
     ]
    },
    {
     "name": "stdout",
     "output_type": "stream",
     "text": [
      "You have TensorFlow version 1.8.0\n"
     ]
    }
   ],
   "source": [
    "import tensorflow as tf\n",
    "\n",
    "from sklearn.preprocessing import LabelBinarizer, LabelEncoder\n",
    "from sklearn.metrics import confusion_matrix\n",
    "\n",
    "from tensorflow import keras\n",
    "from keras.models import Sequential\n",
    "from keras.layers import Dense, Activation, Dropout\n",
    "from keras.preprocessing import text, sequence\n",
    "from keras import utils\n",
    "\n",
    "# This code was tested with TensorFlow v1.4\n",
    "print(\"You have TensorFlow version\", tf.__version__)"
   ]
  },
  {
   "cell_type": "code",
   "execution_count": 25,
   "metadata": {},
   "outputs": [],
   "source": [
    "train_rt.WOSOCO_C_WORK_PARA_VALO.replace((1,2,3,4,5,6,7,8,9,10,11,12),\n",
    "  ('Salud estudiante','Salud familiar','Fallecimiento','Cuidado hijo', 'Cambio socioeconómico', 'Vocacional',\n",
    "  'Cambio Carrera', 'Traslado alumno','Problemas legales', 'Problemas familiares', 'Sin expresión causa','Otra causa'), inplace =True)\n"
   ]
  },
  {
   "cell_type": "code",
   "execution_count": 26,
   "metadata": {},
   "outputs": [
    {
     "data": {
      "text/html": [
       "<div>\n",
       "<style scoped>\n",
       "    .dataframe tbody tr th:only-of-type {\n",
       "        vertical-align: middle;\n",
       "    }\n",
       "\n",
       "    .dataframe tbody tr th {\n",
       "        vertical-align: top;\n",
       "    }\n",
       "\n",
       "    .dataframe thead th {\n",
       "        text-align: right;\n",
       "    }\n",
       "</style>\n",
       "<table border=\"1\" class=\"dataframe\">\n",
       "  <thead>\n",
       "    <tr style=\"text-align: right;\">\n",
       "      <th></th>\n",
       "      <th>WOSOCO_C_WORK_PARA_VALO</th>\n",
       "      <th>WOPAVA_VALOR</th>\n",
       "      <th>WOSOCO_VALOR</th>\n",
       "      <th>word_count</th>\n",
       "      <th>char_count</th>\n",
       "      <th>stopwords</th>\n",
       "      <th>numerics</th>\n",
       "      <th>upper</th>\n",
       "    </tr>\n",
       "  </thead>\n",
       "  <tbody>\n",
       "    <tr>\n",
       "      <th>0</th>\n",
       "      <td>Salud estudiante</td>\n",
       "      <td>Salud estudiante</td>\n",
       "      <td>jueves marzo 2018valparaíso sra angelica casal...</td>\n",
       "      <td>90</td>\n",
       "      <td>620.0</td>\n",
       "      <td>31</td>\n",
       "      <td>1</td>\n",
       "      <td>0</td>\n",
       "    </tr>\n",
       "    <tr>\n",
       "      <th>1</th>\n",
       "      <td>Salud estudiante</td>\n",
       "      <td>Salud estudiante</td>\n",
       "      <td>sra directora procesos docentes angélica casal...</td>\n",
       "      <td>102</td>\n",
       "      <td>671.0</td>\n",
       "      <td>43</td>\n",
       "      <td>1</td>\n",
       "      <td>0</td>\n",
       "    </tr>\n",
       "    <tr>\n",
       "      <th>2</th>\n",
       "      <td>Sin expresión causa</td>\n",
       "      <td>Sin expresión de causa</td>\n",
       "      <td>dentro grupo familiar encuentra madre pasando ...</td>\n",
       "      <td>184</td>\n",
       "      <td>1000.0</td>\n",
       "      <td>92</td>\n",
       "      <td>0</td>\n",
       "      <td>0</td>\n",
       "    </tr>\n",
       "    <tr>\n",
       "      <th>3</th>\n",
       "      <td>Vocacional</td>\n",
       "      <td>Vocacional</td>\n",
       "      <td>sra angélica casaletti logola directora direcc...</td>\n",
       "      <td>162</td>\n",
       "      <td>1000.0</td>\n",
       "      <td>75</td>\n",
       "      <td>0</td>\n",
       "      <td>0</td>\n",
       "    </tr>\n",
       "    <tr>\n",
       "      <th>4</th>\n",
       "      <td>Cambio socioeconómico</td>\n",
       "      <td>Cambio socioeconómico</td>\n",
       "      <td>santiago marzo señores pontificia católica val...</td>\n",
       "      <td>143</td>\n",
       "      <td>1000.0</td>\n",
       "      <td>50</td>\n",
       "      <td>2</td>\n",
       "      <td>0</td>\n",
       "    </tr>\n",
       "  </tbody>\n",
       "</table>\n",
       "</div>"
      ],
      "text/plain": [
       "  WOSOCO_C_WORK_PARA_VALO            WOPAVA_VALOR  \\\n",
       "0        Salud estudiante        Salud estudiante   \n",
       "1        Salud estudiante        Salud estudiante   \n",
       "2     Sin expresión causa  Sin expresión de causa   \n",
       "3              Vocacional              Vocacional   \n",
       "4   Cambio socioeconómico   Cambio socioeconómico   \n",
       "\n",
       "                                        WOSOCO_VALOR  word_count  char_count  \\\n",
       "0  jueves marzo 2018valparaíso sra angelica casal...          90       620.0   \n",
       "1  sra directora procesos docentes angélica casal...         102       671.0   \n",
       "2  dentro grupo familiar encuentra madre pasando ...         184      1000.0   \n",
       "3  sra angélica casaletti logola directora direcc...         162      1000.0   \n",
       "4  santiago marzo señores pontificia católica val...         143      1000.0   \n",
       "\n",
       "   stopwords  numerics  upper  \n",
       "0         31         1      0  \n",
       "1         43         1      0  \n",
       "2         92         0      0  \n",
       "3         75         0      0  \n",
       "4         50         2      0  "
      ]
     },
     "execution_count": 26,
     "metadata": {},
     "output_type": "execute_result"
    }
   ],
   "source": [
    "train_rt.head()"
   ]
  },
  {
   "cell_type": "code",
   "execution_count": 27,
   "metadata": {},
   "outputs": [
    {
     "data": {
      "text/plain": [
       "Sin expresión causa      307\n",
       "Salud estudiante         219\n",
       "Otra causa               131\n",
       "Vocacional               107\n",
       "Cambio socioeconómico     35\n",
       "Cambio Carrera            23\n",
       "Problemas familiares      18\n",
       "Salud familiar            12\n",
       "Traslado alumno            9\n",
       "Cuidado hijo               9\n",
       "Fallecimiento              8\n",
       "Problemas legales          2\n",
       "Name: WOSOCO_C_WORK_PARA_VALO, dtype: int64"
      ]
     },
     "execution_count": 27,
     "metadata": {},
     "output_type": "execute_result"
    }
   ],
   "source": [
    "train_rt['WOSOCO_C_WORK_PARA_VALO'].value_counts()"
   ]
  },
  {
   "cell_type": "code",
   "execution_count": 28,
   "metadata": {},
   "outputs": [
    {
     "name": "stdout",
     "output_type": "stream",
     "text": [
      "Train size: 704\n",
      "Test size: 176\n"
     ]
    }
   ],
   "source": [
    "# Split data into train and test\n",
    "train_size = int(len(train_rt) * .8)\n",
    "print (\"Train size: %d\" % train_size)\n",
    "print (\"Test size: %d\" % (len(train_rt) - train_size))"
   ]
  },
  {
   "cell_type": "code",
   "execution_count": 29,
   "metadata": {},
   "outputs": [],
   "source": [
    "train_letter = train_rt['WOSOCO_VALOR'][:train_size]\n",
    "train_category = train_rt['WOSOCO_C_WORK_PARA_VALO'][:train_size]\n",
    "\n",
    "test_letter = train_rt['WOSOCO_VALOR'][train_size:]\n",
    "test_category = train_rt['WOSOCO_C_WORK_PARA_VALO'][train_size:]"
   ]
  },
  {
   "cell_type": "code",
   "execution_count": 30,
   "metadata": {},
   "outputs": [],
   "source": [
    "\n",
    "max_words = 1000\n",
    "tokenize = text.Tokenizer(num_words=max_words, char_level=False)\n"
   ]
  },
  {
   "cell_type": "code",
   "execution_count": 31,
   "metadata": {},
   "outputs": [
    {
     "name": "stdout",
     "output_type": "stream",
     "text": [
      "[[0. 0. 1. ... 0. 0. 0.]\n",
      " [0. 0. 0. ... 0. 0. 0.]\n",
      " [0. 0. 1. ... 0. 0. 0.]\n",
      " ...\n",
      " [0. 0. 0. ... 0. 0. 0.]\n",
      " [0. 0. 0. ... 0. 0. 0.]\n",
      " [0. 0. 0. ... 0. 0. 0.]]\n"
     ]
    }
   ],
   "source": [
    "#Esta clase permite vectorizar un corpus de texto, convirtiendo cada texto en una secuencia de enteros(\n",
    "#cada entero es el indice de un token en un diccionario)\n",
    "#o en un vector donde el coeficiente para cada token podria ser binario, basado en tf-idf\n",
    "\n",
    "tokenize.fit_on_texts(train_letter) \n",
    "x_train = tokenize.texts_to_matrix(train_letter)\n",
    "x_test = tokenize.texts_to_matrix(test_letter)\n",
    "print(x_train)"
   ]
  },
  {
   "cell_type": "code",
   "execution_count": 32,
   "metadata": {},
   "outputs": [
    {
     "name": "stdout",
     "output_type": "stream",
     "text": [
      "[ 7  7  9 11  1  4  4  4  7  1 10 11  4  4  2  5  7  7 11  1  4  9  4  7\n",
      " 11 11  1  3  9  9  7 11  4  4  4  9  4  7 11  4  4  4  4  9  4  7 11  7\n",
      " 11 11 11 11 11 11 11  4  7  4  0  7 11  7  4  4 11  7  9 11  7 11 11 11\n",
      " 11  9 11 11 11 11 11  4  7 11 11  7  2  9  7  4 11 11  2  7 11  7  7  7\n",
      "  3 11  7 11  7  4  4  9 11  7 11 11  1  4 11  0  1 11 11 11  4 11  9  9\n",
      "  4 11  0  9  7  0  7 11  0 11  9  1 11  7  4  1  7 11 11  1 11  4  9 11\n",
      "  7  7 11  9  0  0  9  4  7  9  7 11  7  9  4  9  4  0 11  1  7 11  4  9\n",
      "  7  4 11  9  1 11  7  9  7  4  9  7  7  4  7  7 11  7  9 11  7  7 11  9\n",
      "  9  7  7  7  7  1  7  7  7 11  1  4  4 11  9  9  4  9 11  4 11  1  7  9\n",
      "  7  4  7  7  3  7  1  0  5  9  7  7  7  7  0  7  7  7  0 10  7  7  9  7\n",
      "  4  9  4  4  4  9  0  4 11  9  7  0  9  9  9  7  7  7  0  9  7  1  9  1\n",
      "  1  9  7  5 10  4  9 11  8  9 11  0  4  7  7  9  2  9  0 11  7  9  9 11\n",
      " 11  7  7  4  4  4  4  5  1  0  7 10  4  4  4 10  7  4  4  5  4  4  7  7\n",
      "  7  9  9  9  9  4  7  7  9  9  8  9  7  9  9  7  5  9  0  9 11  4  7  9\n",
      "  9  4  7  9  3  9  9  4  7  9  7  4  0  9  7  6  7  4  4  4  5  4 11  4\n",
      "  9  9  2  8  9  9  9  9  4  4  1  4  7  9 11  9  9  5  4  9  4  7  9  4\n",
      "  9  7  7  7  4  4 11  9  1  2  4  9  4  4  7 11  1  0  5 11  1  9  9  9\n",
      "  7  4  7 11  9  8  9  7  7  9  3  9 11 10  9  9 11  9  9  8  4  9  7  4\n",
      " 11  9 11  9  9  1  4  9  9  7  7  9  4  9  9  9  9  7  7  9  7  7  4  9\n",
      "  7  7  9  4  9  9  9  7  9  7  9  9 11  4  7  9  7  7 11  4  4 11  9 11\n",
      "  7  9  9  7  7  4 11  1  9  9  4  1  9  4  9  9  4  7  8  9  4 10  4  9\n",
      "  4 11  7  9  7  7  9  9  9  9  9  9  9  4 11  9  9  5  9  7  7  7  9  7\n",
      "  7  7  7  7  9  9  7  9  7  7  4  9  7  8 11  8  9  9  7  7 11  9  9  9\n",
      "  4  9  4  2  7  7  4  4  9  2  4  9  7  7  7  4  4  7  9  9  7  9  9  9\n",
      "  0  7  9  7  9  9  9  9  9  7  7  9 11 11  4  9  0  7  7  4  9  1  9  9\n",
      "  4  9  3  9  4  7  7  9  9  9  9  7  9  9  9  7  7  7  9  9  9  9  7  9\n",
      "  9  9  9  9  9  7  9  9  9  9  9  4  7  7  7 11  7  4  7  9  7 11  7  9\n",
      "  9  9  1  7  9 11  9  9 11  7 11 11  7  4  4  9  9  9  9 10  7  4  4  7\n",
      "  4  9  9  7  4  7  9  7 11  1  9 11  9  9  9 11  9  9  9  7  4  5  9  9\n",
      "  4  7  4  7  7  9  7  7]\n"
     ]
    }
   ],
   "source": [
    "# Se usa la utilidad sklearn para convertir la etiqueta de strings a un indice numerado\n",
    "encoder = LabelEncoder()\n",
    "encoder.fit(train_category)\n",
    "y_train =  encoder.transform(train_category)\n",
    "y_test = encoder.transform(test_category)\n",
    "y_train_dos =  encoder.transform(train_category)\n",
    "y_test_dos = encoder.transform(test_category)\n",
    "print(y_train)"
   ]
  },
  {
   "cell_type": "code",
   "execution_count": 33,
   "metadata": {},
   "outputs": [],
   "source": [
    "# Convierte las etiquetas en una representacion one-hot\n",
    "num_classes = np.max(y_train) + 1\n",
    "y_train = utils.to_categorical(y_train, num_classes)\n",
    "y_test = utils.to_categorical(y_test, num_classes)"
   ]
  },
  {
   "cell_type": "code",
   "execution_count": 34,
   "metadata": {},
   "outputs": [
    {
     "name": "stdout",
     "output_type": "stream",
     "text": [
      "[[0. 0. 0. ... 0. 0. 0.]\n",
      " [0. 0. 0. ... 0. 0. 0.]\n",
      " [0. 0. 0. ... 1. 0. 0.]\n",
      " ...\n",
      " [0. 0. 0. ... 1. 0. 0.]\n",
      " [0. 0. 0. ... 0. 0. 0.]\n",
      " [0. 0. 0. ... 0. 0. 0.]]\n"
     ]
    }
   ],
   "source": [
    "print(y_train)"
   ]
  },
  {
   "cell_type": "code",
   "execution_count": 35,
   "metadata": {},
   "outputs": [
    {
     "name": "stdout",
     "output_type": "stream",
     "text": [
      "x_train shape: (704, 1000)\n",
      "x_test shape: (176, 1000)\n",
      "y_train shape: (704, 12)\n",
      "y_test shape: (176, 12)\n"
     ]
    }
   ],
   "source": [
    "# Vemos como quedan los datos de entrenamiento y pruebas\n",
    "print('x_train shape:', x_train.shape)\n",
    "print('x_test shape:', x_test.shape)\n",
    "print('y_train shape:', y_train.shape)\n",
    "print('y_test shape:', y_test.shape)"
   ]
  },
  {
   "cell_type": "code",
   "execution_count": 36,
   "metadata": {},
   "outputs": [],
   "source": [
    "#Se crean los parametros de la red\n",
    "batch_size = 32\n",
    "epochs = 30"
   ]
  },
  {
   "cell_type": "code",
   "execution_count": 37,
   "metadata": {},
   "outputs": [],
   "source": [
    "# Se construye el mdodelo\n",
    "model = Sequential()\n",
    "model.add(Dense(512, input_shape=(max_words,)))\n",
    "model.add(Activation('relu'))\n",
    "model.add(Dropout(0.5))\n",
    "model.add(Dense(num_classes))\n",
    "model.add(Activation('softmax'))\n",
    "\n",
    "model.compile(loss='categorical_crossentropy',\n",
    "              optimizer='adam',\n",
    "              metrics=['accuracy'])"
   ]
  },
  {
   "cell_type": "code",
   "execution_count": 38,
   "metadata": {},
   "outputs": [
    {
     "name": "stdout",
     "output_type": "stream",
     "text": [
      "Train on 633 samples, validate on 71 samples\n",
      "Epoch 1/30\n",
      "633/633 [==============================] - 1s 886us/step - loss: 1.9818 - acc: 0.3428 - val_loss: 1.3633 - val_acc: 0.6056\n",
      "Epoch 2/30\n",
      "633/633 [==============================] - 0s 402us/step - loss: 1.2635 - acc: 0.6730 - val_loss: 1.2168 - val_acc: 0.5634\n",
      "Epoch 3/30\n",
      "633/633 [==============================] - 0s 408us/step - loss: 0.8897 - acc: 0.7978 - val_loss: 1.1013 - val_acc: 0.6056\n",
      "Epoch 4/30\n",
      "633/633 [==============================] - 0s 451us/step - loss: 0.6117 - acc: 0.8847 - val_loss: 1.0816 - val_acc: 0.5634\n",
      "Epoch 5/30\n",
      "633/633 [==============================] - 0s 509us/step - loss: 0.4382 - acc: 0.9131 - val_loss: 1.0735 - val_acc: 0.5634\n",
      "Epoch 6/30\n",
      "633/633 [==============================] - 0s 441us/step - loss: 0.3112 - acc: 0.9494 - val_loss: 1.0549 - val_acc: 0.5775\n",
      "Epoch 7/30\n",
      "633/633 [==============================] - 0s 418us/step - loss: 0.2472 - acc: 0.9589 - val_loss: 1.0655 - val_acc: 0.6761\n",
      "Epoch 8/30\n",
      "633/633 [==============================] - 0s 481us/step - loss: 0.1774 - acc: 0.9700 - val_loss: 1.1053 - val_acc: 0.6620\n",
      "Epoch 9/30\n",
      "633/633 [==============================] - 0s 539us/step - loss: 0.1578 - acc: 0.9747 - val_loss: 1.1075 - val_acc: 0.6197\n",
      "Epoch 10/30\n",
      "633/633 [==============================] - 0s 414us/step - loss: 0.1243 - acc: 0.9763 - val_loss: 1.1369 - val_acc: 0.6338\n",
      "Epoch 11/30\n",
      "633/633 [==============================] - 0s 465us/step - loss: 0.1225 - acc: 0.9747 - val_loss: 1.1697 - val_acc: 0.6056\n",
      "Epoch 12/30\n",
      "633/633 [==============================] - 0s 498us/step - loss: 0.1069 - acc: 0.9747 - val_loss: 1.1662 - val_acc: 0.5915\n",
      "Epoch 13/30\n",
      "633/633 [==============================] - 0s 592us/step - loss: 0.0956 - acc: 0.9747 - val_loss: 1.1806 - val_acc: 0.5915\n",
      "Epoch 14/30\n",
      "633/633 [==============================] - 0s 454us/step - loss: 0.0890 - acc: 0.9763 - val_loss: 1.2057 - val_acc: 0.6056\n",
      "Epoch 15/30\n",
      "633/633 [==============================] - 0s 477us/step - loss: 0.0795 - acc: 0.9810 - val_loss: 1.2243 - val_acc: 0.5775\n",
      "Epoch 16/30\n",
      "633/633 [==============================] - 0s 425us/step - loss: 0.0761 - acc: 0.9779 - val_loss: 1.2407 - val_acc: 0.6197\n",
      "Epoch 17/30\n",
      "633/633 [==============================] - 0s 510us/step - loss: 0.0685 - acc: 0.9779 - val_loss: 1.2741 - val_acc: 0.5915\n",
      "Epoch 18/30\n",
      "633/633 [==============================] - 0s 454us/step - loss: 0.0781 - acc: 0.9747 - val_loss: 1.2796 - val_acc: 0.6197\n",
      "Epoch 19/30\n",
      "633/633 [==============================] - 0s 460us/step - loss: 0.0763 - acc: 0.9795 - val_loss: 1.2693 - val_acc: 0.6056\n",
      "Epoch 20/30\n",
      "633/633 [==============================] - 0s 493us/step - loss: 0.0748 - acc: 0.9795 - val_loss: 1.2760 - val_acc: 0.6056\n",
      "Epoch 21/30\n",
      "633/633 [==============================] - 0s 454us/step - loss: 0.0600 - acc: 0.9795 - val_loss: 1.3101 - val_acc: 0.6056\n",
      "Epoch 22/30\n",
      "633/633 [==============================] - 0s 533us/step - loss: 0.0633 - acc: 0.9826 - val_loss: 1.3427 - val_acc: 0.5915\n",
      "Epoch 23/30\n",
      "633/633 [==============================] - 0s 427us/step - loss: 0.0736 - acc: 0.9795 - val_loss: 1.3343 - val_acc: 0.6338\n",
      "Epoch 24/30\n",
      "633/633 [==============================] - 0s 425us/step - loss: 0.0610 - acc: 0.9795 - val_loss: 1.3611 - val_acc: 0.6056\n",
      "Epoch 25/30\n",
      "633/633 [==============================] - 0s 441us/step - loss: 0.0625 - acc: 0.9858 - val_loss: 1.3683 - val_acc: 0.6056\n",
      "Epoch 26/30\n",
      "633/633 [==============================] - 0s 416us/step - loss: 0.0724 - acc: 0.9826 - val_loss: 1.3493 - val_acc: 0.6338\n",
      "Epoch 27/30\n",
      "633/633 [==============================] - 0s 427us/step - loss: 0.0511 - acc: 0.9826 - val_loss: 1.3865 - val_acc: 0.5915\n",
      "Epoch 28/30\n",
      "633/633 [==============================] - 0s 436us/step - loss: 0.0526 - acc: 0.9874 - val_loss: 1.3984 - val_acc: 0.5915\n",
      "Epoch 29/30\n",
      "633/633 [==============================] - 0s 435us/step - loss: 0.0666 - acc: 0.9747 - val_loss: 1.4025 - val_acc: 0.6056\n",
      "Epoch 30/30\n",
      "633/633 [==============================] - 0s 403us/step - loss: 0.0596 - acc: 0.9763 - val_loss: 1.4017 - val_acc: 0.5915\n"
     ]
    }
   ],
   "source": [
    "history = model.fit(x_train, y_train,\n",
    "                    batch_size=batch_size,\n",
    "                    epochs=epochs,\n",
    "                    verbose=1,\n",
    "                    validation_split=0.1)"
   ]
  },
  {
   "cell_type": "code",
   "execution_count": 39,
   "metadata": {},
   "outputs": [
    {
     "name": "stdout",
     "output_type": "stream",
     "text": [
      "176/176 [==============================] - 0s 108us/step\n",
      "Test score: 1.5296421267769553\n",
      "Test accuracy: 0.6534090909090909\n"
     ]
    }
   ],
   "source": [
    "# Se avalua la precision de los datos de entrenamiento\n",
    "score = model.evaluate(x_test, y_test,\n",
    "                       batch_size=batch_size, verbose=1)\n",
    "print('Test score:', score[0])\n",
    "print('Test accuracy:', score[1])"
   ]
  },
  {
   "cell_type": "code",
   "execution_count": 40,
   "metadata": {},
   "outputs": [
    {
     "name": "stdout",
     "output_type": "stream",
     "text": [
      " ...\n",
      "Etiqueta Actual: Sin expresión causa\n",
      "Etiqueta predicha:  Otra causa \n",
      "\n",
      "junto saludarles deseo solicitar corresponden peri ...\n",
      "Etiqueta Actual: Sin expresión causa\n",
      "Etiqueta predicha:  Sin expresión causa \n",
      "\n",
      "señor juan pablo herrera director interinodirecció ...\n",
      "Etiqueta Actual: Sin expresión causa\n",
      "Etiqueta predicha:  Otra causa \n",
      "\n",
      "través presente documento hago solicitud actualmen ...\n",
      "Etiqueta Actual: Salud estudiante\n",
      "Etiqueta predicha:  Salud estudiante \n",
      "\n",
      "solicito proseguir desvinculación persona instituc ...\n",
      "Etiqueta Actual: Sin expresión causa\n",
      "Etiqueta predicha:  Sin expresión causa \n",
      "\n",
      "valparaíso agosto sr juan pablo herrera carvajal d ...\n",
      "Etiqueta Actual: Vocacional\n",
      "Etiqueta predicha:  Otra causa \n",
      "\n",
      "estimado director procesos docentes escribo presen ...\n",
      "Etiqueta Actual: Salud estudiante\n",
      "Etiqueta predicha:  Salud estudiante \n",
      "\n",
      "estimado hago solicitud mal desempeño académico ob ...\n",
      "Etiqueta Actual: Sin expresión causa\n",
      "Etiqueta predicha:  Otra causa \n",
      "\n",
      "estimado señorseñora escribo carta veo obligado re ...\n",
      "Etiqueta Actual: Cambio socioeconómico\n",
      "Etiqueta predicha:  Sin expresión causa \n",
      "\n",
      "través presente carta dirijo respetuosamente usted ...\n",
      "Etiqueta Actual: Sin expresión causa\n",
      "Etiqueta predicha:  Sin expresión causa \n",
      "\n"
     ]
    }
   ],
   "source": [
    "# Aca se genera una prediccion individual en base a los datos de entrenamiento Vs los datos de pruebas\n",
    "text_labels = encoder.classes_ \n",
    "\n",
    "for i in range(10):\n",
    "    prediction = model.predict(np.array([x_test[i]]))\n",
    "    predicted_label = text_labels[np.argmax(prediction)]\n",
    "    print(test_letter.iloc[i][:50], \"...\")\n",
    "    print('Etiqueta Actual:' , test_category.iloc[i])\n",
    "    print(\"Etiqueta predicha: \" , predicted_label , \"\\n\")"
   ]
  },
  {
   "cell_type": "code",
   "execution_count": 41,
   "metadata": {},
   "outputs": [],
   "source": [
    "#se guarda el modelo\n",
    "model.save(\"modelo_red_neuronal.h5\")"
   ]
  },
  {
   "cell_type": "code",
   "execution_count": null,
   "metadata": {},
   "outputs": [],
   "source": []
  }
 ],
 "metadata": {
  "kernelspec": {
   "display_name": "Python 3",
   "language": "python",
   "name": "python3"
  },
  "language_info": {
   "codemirror_mode": {
    "name": "ipython",
    "version": 3
   },
   "file_extension": ".py",
   "mimetype": "text/x-python",
   "name": "python",
   "nbconvert_exporter": "python",
   "pygments_lexer": "ipython3",
   "version": "3.6.5"
  }
 },
 "nbformat": 4,
 "nbformat_minor": 2
}
